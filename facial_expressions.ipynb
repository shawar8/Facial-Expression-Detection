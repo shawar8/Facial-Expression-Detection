{
  "nbformat": 4,
  "nbformat_minor": 0,
  "metadata": {
    "colab": {
      "name": "facial_expressions.ipynb",
      "provenance": [],
      "collapsed_sections": [],
      "authorship_tag": "ABX9TyM4oe1hzUorIRnIWwr6MEvC",
      "include_colab_link": true
    },
    "kernelspec": {
      "name": "python3",
      "display_name": "Python 3"
    },
    "accelerator": "GPU"
  },
  "cells": [
    {
      "cell_type": "markdown",
      "metadata": {
        "id": "view-in-github",
        "colab_type": "text"
      },
      "source": [
        "<a href=\"https://colab.research.google.com/github/shawar8/Facial-Expression-Detection/blob/master/facial_expressions.ipynb\" target=\"_parent\"><img src=\"https://colab.research.google.com/assets/colab-badge.svg\" alt=\"Open In Colab\"/></a>"
      ]
    },
    {
      "cell_type": "code",
      "metadata": {
        "id": "ppEmx5BfGy6T",
        "colab_type": "code",
        "colab": {}
      },
      "source": [
        "import pandas as pd\n",
        "import numpy as np\n",
        "import matplotlib.pyplot as plt\n",
        "import tensorflow\n",
        "from tensorflow.keras.layers import Dense, Conv2D, BatchNormalization, Flatten , Dropout, MaxPooling2D\n",
        "from tensorflow.keras import models\n",
        "from tensorflow.keras.utils import to_categorical\n",
        "from tensorflow.keras.preprocessing.image import ImageDataGenerator\n",
        "from sklearn.preprocessing import LabelEncoder\n",
        "from tensorflow.keras import optimizers, callbacks\n",
        "from collections import Counter\n",
        "import cv2\n",
        "from tensorflow.keras.preprocessing.image import img_to_array"
      ],
      "execution_count": 1,
      "outputs": []
    },
    {
      "cell_type": "code",
      "metadata": {
        "id": "LBhCRMMsHhyF",
        "colab_type": "code",
        "colab": {
          "base_uri": "https://localhost:8080/",
          "height": 122
        },
        "outputId": "cf273fe1-bd88-4ea8-f9c7-c830e4c0e653"
      },
      "source": [
        "import os\n",
        "from google.colab import drive\n",
        "drive.mount('/content/drive')"
      ],
      "execution_count": 2,
      "outputs": [
        {
          "output_type": "stream",
          "text": [
            "Go to this URL in a browser: https://accounts.google.com/o/oauth2/auth?client_id=947318989803-6bn6qk8qdgf4n4g3pfee6491hc0brc4i.apps.googleusercontent.com&redirect_uri=urn%3aietf%3awg%3aoauth%3a2.0%3aoob&response_type=code&scope=email%20https%3a%2f%2fwww.googleapis.com%2fauth%2fdocs.test%20https%3a%2f%2fwww.googleapis.com%2fauth%2fdrive%20https%3a%2f%2fwww.googleapis.com%2fauth%2fdrive.photos.readonly%20https%3a%2f%2fwww.googleapis.com%2fauth%2fpeopleapi.readonly\n",
            "\n",
            "Enter your authorization code:\n",
            "··········\n",
            "Mounted at /content/drive\n"
          ],
          "name": "stdout"
        }
      ]
    },
    {
      "cell_type": "code",
      "metadata": {
        "id": "fCJRcV3AJQS_",
        "colab_type": "code",
        "colab": {}
      },
      "source": [
        "os.chdir('./drive/My Drive/face_expression')"
      ],
      "execution_count": 3,
      "outputs": []
    },
    {
      "cell_type": "code",
      "metadata": {
        "id": "ES8YjEd8IKwE",
        "colab_type": "code",
        "colab": {}
      },
      "source": [
        "fer = pd.read_csv('./fer2013.csv')"
      ],
      "execution_count": 4,
      "outputs": []
    },
    {
      "cell_type": "code",
      "metadata": {
        "id": "ICeYbYBEIchI",
        "colab_type": "code",
        "colab": {
          "base_uri": "https://localhost:8080/",
          "height": 204
        },
        "outputId": "b49217b3-043d-4e79-ab96-5d57d0bd54ed"
      },
      "source": [
        "fer.head()"
      ],
      "execution_count": 5,
      "outputs": [
        {
          "output_type": "execute_result",
          "data": {
            "text/html": [
              "<div>\n",
              "<style scoped>\n",
              "    .dataframe tbody tr th:only-of-type {\n",
              "        vertical-align: middle;\n",
              "    }\n",
              "\n",
              "    .dataframe tbody tr th {\n",
              "        vertical-align: top;\n",
              "    }\n",
              "\n",
              "    .dataframe thead th {\n",
              "        text-align: right;\n",
              "    }\n",
              "</style>\n",
              "<table border=\"1\" class=\"dataframe\">\n",
              "  <thead>\n",
              "    <tr style=\"text-align: right;\">\n",
              "      <th></th>\n",
              "      <th>emotion</th>\n",
              "      <th>pixels</th>\n",
              "      <th>Usage</th>\n",
              "    </tr>\n",
              "  </thead>\n",
              "  <tbody>\n",
              "    <tr>\n",
              "      <th>0</th>\n",
              "      <td>0</td>\n",
              "      <td>70 80 82 72 58 58 60 63 54 58 60 48 89 115 121...</td>\n",
              "      <td>Training</td>\n",
              "    </tr>\n",
              "    <tr>\n",
              "      <th>1</th>\n",
              "      <td>0</td>\n",
              "      <td>151 150 147 155 148 133 111 140 170 174 182 15...</td>\n",
              "      <td>Training</td>\n",
              "    </tr>\n",
              "    <tr>\n",
              "      <th>2</th>\n",
              "      <td>2</td>\n",
              "      <td>231 212 156 164 174 138 161 173 182 200 106 38...</td>\n",
              "      <td>Training</td>\n",
              "    </tr>\n",
              "    <tr>\n",
              "      <th>3</th>\n",
              "      <td>4</td>\n",
              "      <td>24 32 36 30 32 23 19 20 30 41 21 22 32 34 21 1...</td>\n",
              "      <td>Training</td>\n",
              "    </tr>\n",
              "    <tr>\n",
              "      <th>4</th>\n",
              "      <td>6</td>\n",
              "      <td>4 0 0 0 0 0 0 0 0 0 0 0 3 15 23 28 48 50 58 84...</td>\n",
              "      <td>Training</td>\n",
              "    </tr>\n",
              "  </tbody>\n",
              "</table>\n",
              "</div>"
            ],
            "text/plain": [
              "   emotion                                             pixels     Usage\n",
              "0        0  70 80 82 72 58 58 60 63 54 58 60 48 89 115 121...  Training\n",
              "1        0  151 150 147 155 148 133 111 140 170 174 182 15...  Training\n",
              "2        2  231 212 156 164 174 138 161 173 182 200 106 38...  Training\n",
              "3        4  24 32 36 30 32 23 19 20 30 41 21 22 32 34 21 1...  Training\n",
              "4        6  4 0 0 0 0 0 0 0 0 0 0 0 3 15 23 28 48 50 58 84...  Training"
            ]
          },
          "metadata": {
            "tags": []
          },
          "execution_count": 5
        }
      ]
    },
    {
      "cell_type": "code",
      "metadata": {
        "id": "ngsV5-PRIe4X",
        "colab_type": "code",
        "colab": {}
      },
      "source": [
        "train = fer.query('Usage == \"Training\"')\n",
        "val = fer.query('Usage == \"PrivateTest\"')\n",
        "test = fer.query('Usage == \"PublicTest\"')"
      ],
      "execution_count": 6,
      "outputs": []
    },
    {
      "cell_type": "code",
      "metadata": {
        "id": "hW8a-VjyPfOu",
        "colab_type": "code",
        "colab": {}
      },
      "source": [
        "width = 48\n",
        "height= 48"
      ],
      "execution_count": 7,
      "outputs": []
    },
    {
      "cell_type": "code",
      "metadata": {
        "id": "pkCj-p5wIh8d",
        "colab_type": "code",
        "colab": {}
      },
      "source": [
        "### Looping over the images, applying histogram equalization, and reshaping to \n",
        "### 48x48x1 array\n",
        "\n",
        "def get_img_labels(df, width, height):\n",
        "    images = []\n",
        "    labels = []\n",
        "    for key, values in df.iterrows():\n",
        "        label = values[0]\n",
        "        img = values[1]\n",
        "        labels.append(label)\n",
        "        img = np.array(img.split(' ')).astype(float)\n",
        "        image_histogram, bins = np.histogram(img, 256, density=True)\n",
        "        cdf = image_histogram.cumsum() # cumulative distribution function\n",
        "        cdf = 255 * cdf / cdf[-1]\n",
        "        image_equalized = np.interp(img, bins[:-1], cdf).reshape((width,height))\n",
        "        images.append(image_equalized)\n",
        "    return np.array(images), np.array(labels)"
      ],
      "execution_count": 8,
      "outputs": []
    },
    {
      "cell_type": "code",
      "metadata": {
        "id": "Pbx51Vk0Ikfq",
        "colab_type": "code",
        "colab": {}
      },
      "source": [
        "### Calling the function to get the train,val and test dataset\n",
        "x_train, y_train = get_img_labels(train, width, height)\n",
        "x_val, y_val = get_img_labels(val, width, height)\n",
        "x_test, y_test = get_img_labels(test, width, height)"
      ],
      "execution_count": 9,
      "outputs": []
    },
    {
      "cell_type": "code",
      "metadata": {
        "id": "R-xLauKwInTO",
        "colab_type": "code",
        "colab": {}
      },
      "source": [
        "### Reshaping to a format that can be taken into the CNN Model\n",
        "x_train = x_train.reshape((-1, width, height, 1))\n",
        "x_val = x_val.reshape((-1, width, height, 1))\n",
        "x_test = x_test.reshape((-1, width, height, 1))"
      ],
      "execution_count": 10,
      "outputs": []
    },
    {
      "cell_type": "code",
      "metadata": {
        "id": "RqtvXoZZIsOn",
        "colab_type": "code",
        "colab": {}
      },
      "source": [
        "### Creating a mapping for the emotions\n",
        "emotion_map = {0: 'Angry', 1: 'Disgust', 2: 'Fear', 3: 'Happy', 4: 'Sad', 5: 'Surprise', 6: 'Neutral'}\n",
        "emotion_map_rev = {j:i for i,j in emotion_map.items()}"
      ],
      "execution_count": 11,
      "outputs": []
    },
    {
      "cell_type": "code",
      "metadata": {
        "id": "O2n7u0PN-xKr",
        "colab_type": "code",
        "colab": {
          "base_uri": "https://localhost:8080/",
          "height": 153
        },
        "outputId": "01538698-80a4-46bc-e740-011607de9938"
      },
      "source": [
        "### Checking to see if there is a similar distribution for each class in the train, val and test set\n",
        "print ('y-train distribution')\n",
        "train_count = (Counter([emotion_map[i] for i in y_train]))\n",
        "train_dict = {i: str(np.round(j*100/sum(train_count.values())))+'%' for i,j in train_count.items()}\n",
        "print (train_dict, '\\n')\n",
        "print ('y-val distribution')\n",
        "val_count =  (Counter([emotion_map[i] for i in y_val]))\n",
        "val_dict = {i: str(np.round(j*100/sum(val_count.values())))+'%' for i,j in val_count.items()}\n",
        "print (val_dict, '\\n')\n",
        "print ('y-test distribution')\n",
        "test_count = (Counter([emotion_map[i] for i in y_test]))\n",
        "test_dict = {i: str(np.round(j*100/sum(test_count.values())))+'%' for i,j in test_count.items()}\n",
        "print (test_dict)"
      ],
      "execution_count": 12,
      "outputs": [
        {
          "output_type": "stream",
          "text": [
            "y-train distribution\n",
            "{'Angry': '14.0%', 'Fear': '14.0%', 'Sad': '17.0%', 'Neutral': '17.0%', 'Happy': '25.0%', 'Surprise': '11.0%', 'Disgust': '2.0%'} \n",
            "\n",
            "y-val distribution\n",
            "{'Angry': '14.0%', 'Surprise': '12.0%', 'Neutral': '17.0%', 'Sad': '17.0%', 'Fear': '15.0%', 'Happy': '24.0%', 'Disgust': '2.0%'} \n",
            "\n",
            "y-test distribution\n",
            "{'Angry': '13.0%', 'Disgust': '2.0%', 'Sad': '18.0%', 'Neutral': '17.0%', 'Happy': '25.0%', 'Fear': '14.0%', 'Surprise': '12.0%'}\n"
          ],
          "name": "stdout"
        }
      ]
    },
    {
      "cell_type": "code",
      "metadata": {
        "id": "Zd0aMKBF9lGj",
        "colab_type": "code",
        "colab": {}
      },
      "source": [
        "### Plotting random images of chosen emotions\n",
        "def get_image_samples(x_data, y_labels, label, num_images, x_imgs, y_imgs, img_labels):\n",
        "  num_class_images = x_data[y_labels == [img_labels[label]]].shape[0]\n",
        "  random_samples = np.random.randint(0,num_class_images,num_images)\n",
        "  sample_imgs = x_data[y_labels == img_labels[label]][random_samples]\n",
        "  x_dim = (48* x_imgs) + ((x_imgs - 1) * 2)\n",
        "  y_dim = (48 *y_imgs) + ((y_imgs - 1) * 2)\n",
        "  plot_ = np.zeros((x_dim, y_dim, 3))\n",
        "  counter = 0\n",
        "  for i in range(0, x_imgs):\n",
        "    for j in range(0, y_imgs):\n",
        "      plot_[(i*2)+(i*48): (i*2)+(i*48)+48, (j*2)+(j*48):(j*2)+(j*48)+48,:] = sample_imgs[counter]\n",
        "      counter += 1\n",
        "  plt.imshow(plot_)"
      ],
      "execution_count": 13,
      "outputs": []
    },
    {
      "cell_type": "code",
      "metadata": {
        "id": "7YtWQleoeG1E",
        "colab_type": "code",
        "colab": {
          "base_uri": "https://localhost:8080/",
          "height": 286
        },
        "outputId": "37bdbc35-4780-4098-aeb9-d5839187427e"
      },
      "source": [
        "get_image_samples(x_train/255, y_train, 'Disgust', 20, 5, 4, emotion_map_rev)"
      ],
      "execution_count": 14,
      "outputs": [
        {
          "output_type": "stream",
          "text": [
            "Clipping input data to the valid range for imshow with RGB data ([0..1] for floats or [0..255] for integers).\n"
          ],
          "name": "stderr"
        },
        {
          "output_type": "display_data",
          "data": {
            "image/png": "[encoded data removed]",
            "text/plain": [
              "<Figure size 432x288 with 1 Axes>"
            ]
          },
          "metadata": {
            "tags": [],
            "needs_background": "light"
          }
        }
      ]
    },
    {
      "cell_type": "code",
      "metadata": {
        "id": "Y-SRp_QkIupv",
        "colab_type": "code",
        "colab": {}
      },
      "source": [
        "### One hot encoding the labels\n",
        "y_train = to_categorical(y_train)\n",
        "y_val = to_categorical(y_val)\n",
        "y_test = to_categorical(y_test)"
      ],
      "execution_count": 15,
      "outputs": []
    },
    {
      "cell_type": "code",
      "metadata": {
        "id": "ipiswHXsqdC9",
        "colab_type": "code",
        "colab": {}
      },
      "source": [
        "### I decided to combine the train and val dataset to create one big train dataset\n",
        "x_train = np.concatenate([x_train, x_val], axis = 0)\n",
        "y_train = np.concatenate([y_train, y_val], axis = 0)"
      ],
      "execution_count": 16,
      "outputs": []
    },
    {
      "cell_type": "code",
      "metadata": {
        "id": "cHbdHdReLt7u",
        "colab_type": "code",
        "colab": {}
      },
      "source": [
        "### Normalizing the data so that all values are between 0 and 1\n",
        "x_train = x_train/255.\n",
        "x_test = x_test/255."
      ],
      "execution_count": 17,
      "outputs": []
    },
    {
      "cell_type": "code",
      "metadata": {
        "id": "ove5j1PWgmjc",
        "colab_type": "code",
        "colab": {}
      },
      "source": [
        "### Defining the batch_size, optimizer, regularizer for the input layer, labels and epochs\n",
        "batch_size = 64\n",
        "opt = optimizers.Adam(learning_rate = 1e-4)\n",
        "reg = tensorflow.keras.regularizers.l2(0.01)\n",
        "num_labels = 7\n",
        "epochs = 30"
      ],
      "execution_count": 18,
      "outputs": []
    },
    {
      "cell_type": "code",
      "metadata": {
        "id": "ujYnmtm03CZS",
        "colab_type": "code",
        "colab": {}
      },
      "source": [
        "### Creating a data generator to create more data with flipping the faces horizontally and a little zoom\n",
        "train_datagen = ImageDataGenerator(horizontal_flip= True, zoom_range = 0.1)\n",
        "train_datagen.fit(x_train)\n",
        "datagen_flow = train_datagen.flow(x_train, y_train, batch_size = batch_size)"
      ],
      "execution_count": 19,
      "outputs": []
    },
    {
      "cell_type": "code",
      "metadata": {
        "id": "kL5u3wm12Wz2",
        "colab_type": "code",
        "colab": {}
      },
      "source": [
        "### Building the model\n",
        "model = models.Sequential()\n",
        "\n",
        "model.add(Conv2D(64, kernel_size=(3, 3), activation='relu', input_shape=(width, height, 1), kernel_regularizer=reg))\n",
        "model.add(Conv2D(64, kernel_size=(3, 3), activation='relu', padding='same'))\n",
        "model.add(BatchNormalization())\n",
        "model.add(MaxPooling2D(pool_size=(2, 2), strides=(2, 2)))\n",
        "\n",
        "model.add(Conv2D(128, kernel_size=(3, 3), activation='relu', padding='same'))\n",
        "model.add(BatchNormalization())\n",
        "model.add(Conv2D(128, kernel_size=(3, 3), activation='relu', padding='same'))\n",
        "model.add(BatchNormalization())\n",
        "model.add(MaxPooling2D(pool_size=(2, 2), strides=(2, 2)))\n",
        "\n",
        "model.add(Conv2D(256, kernel_size=(3, 3), activation='relu', padding='same'))\n",
        "model.add(BatchNormalization())\n",
        "model.add(Conv2D(256, kernel_size=(3, 3), activation='relu', padding='same'))\n",
        "model.add(BatchNormalization())\n",
        "model.add(MaxPooling2D(pool_size=(2, 2), strides=(2, 2)))\n",
        "\n",
        "model.add(Conv2D(512, kernel_size=(3, 3), activation='relu', padding='same'))\n",
        "model.add(BatchNormalization())\n",
        "model.add(Conv2D(512, kernel_size=(3, 3), activation='relu', padding='same'))\n",
        "model.add(BatchNormalization())\n",
        "model.add(MaxPooling2D(pool_size=(2, 2), strides=(2, 2)))\n",
        "\n",
        "model.add(Flatten())\n",
        "\n",
        "model.add(Dense(512, activation='relu'))\n",
        "model.add(Dense(512, activation='relu'))\n",
        "model.add(Dense(64, activation='relu'))\n",
        "\n",
        "model.add(Dense(num_labels, activation='softmax'))\n",
        "\n",
        "model.compile(loss='categorical_crossentropy',\n",
        "              optimizer=tensorflow.keras.optimizers.Adam(lr=0.001, beta_1=0.9, beta_2=0.999, epsilon=1e-7),\n",
        "              metrics=['accuracy'])"
      ],
      "execution_count": 21,
      "outputs": []
    },
    {
      "cell_type": "code",
      "metadata": {
        "id": "EpRq09tPXHbr",
        "colab_type": "code",
        "colab": {}
      },
      "source": [
        "### If you dont want to run the model, just load the weights\n",
        "model.load_weights('face_emotions.h5')"
      ],
      "execution_count": null,
      "outputs": []
    },
    {
      "cell_type": "code",
      "metadata": {
        "id": "0LhBbPHufHGZ",
        "colab_type": "code",
        "colab": {}
      },
      "source": [
        "history = model.fit(datagen_flow, batch_size = batch_size, epochs = epochs, \n",
        "                    validation_data = (x_test, y_test))"
      ],
      "execution_count": null,
      "outputs": []
    },
    {
      "cell_type": "code",
      "metadata": {
        "id": "dMLvqPL02mE4",
        "colab_type": "code",
        "colab": {}
      },
      "source": [
        "###Loading pre-trained face detector model and its weights\n",
        "model_path = './res10_300x300_ssd_iter_140000.caffemodel'\n",
        "model_prototxt_path = './deploy.prototxt'\n",
        "\n",
        "detector = cv2.dnn.readNetFromCaffe(model_prototxt_path, model_path)"
      ],
      "execution_count": 24,
      "outputs": []
    },
    {
      "cell_type": "code",
      "metadata": {
        "id": "XPcVxlue7_v4",
        "colab_type": "code",
        "colab": {
          "base_uri": "https://localhost:8080/",
          "height": 54
        },
        "outputId": "aded2c57-7f05-48ad-d4ae-95746fba5d43"
      },
      "source": [
        "### Piecing everything together to load the video, detect the face, predict\n",
        "### the emotion, draw a rectangle around the face and print the emotion detected\n",
        "\n",
        "from google.colab.patches import cv2_imshow\n",
        "import imutils\n",
        "import imageio\n",
        "vc = cv2.VideoCapture('emotion3.mov')\n",
        "writer = imageio.get_writer('./latest_emotion_detect.mov')\n",
        "while True:\n",
        "  ret, frame = vc.read()\n",
        "  if not ret:\n",
        "    break\n",
        "  else:\n",
        "    frame = imutils.resize(frame, width = 600)\n",
        "    h,w = frame.shape[:2]\n",
        "    ### Creating a blob from the image -> https://www.pyimagesearch.com/2017/11/06/deep-learning-opencvs-blobfromimage-works/\n",
        "    blob = cv2.dnn.blobFromImage(cv2.resize(frame, (300, 300)), 1.0, (300, 300), (104.0, 177.0, 123.0))\n",
        "    detector.setInput(blob)\n",
        "    detections = detector.forward()\n",
        "    ### Looping over the face detenctions and making the prediction only if the detection confidence > 0.6\n",
        "    for i in range(detections.shape[2]):\n",
        "      confidence = detections[0,0,i,2]\n",
        "      if confidence > 0.6:\n",
        "        ### The coordinates of the box are normalized so we multiply by width and height to get actual coordinates\n",
        "        box = detections[0,0,i,3:7] * np.array([w,h,w,h])\n",
        "        x0, y0, x1, y1 = box.astype('int')\n",
        "        ### Making sure the coordinates of the box are inside the picture frame\n",
        "        x0 = max(0,x0)\n",
        "        y0 = max(0, y0)\n",
        "        x1 = min(x1, w)\n",
        "        y1 = min(y1, h)\n",
        "        ### Resizing the image to 48, 48 to feed into the neural network\n",
        "        face = cv2.resize(frame[y0:y1, x0:x1], (48,48))\n",
        "        gray = cv2.cvtColor(face, cv2.COLOR_BGR2GRAY)\n",
        "        gray = cv2.equalizeHist(gray)\n",
        "        gray = gray/255.\n",
        "        gray = img_to_array(gray)\n",
        "        gray = np.expand_dims(gray, axis = 0)\n",
        "        prediction = model.predict(gray)\n",
        "        pred_prob = prediction.max()\n",
        "        expression = emotion_map[np.argmax(prediction)]\n",
        "        label = f'{np.int(pred_prob * 100)}% {expression}'\n",
        "        ### Putting the text and drawing the rectangle\n",
        "        cv2.putText(frame, label, (x0, y0-10), cv2.FONT_HERSHEY_COMPLEX, 0.5, (0,0,255.), 2)\n",
        "        cv2.rectangle(frame, (x0, y0), (x1,y1), (0,0,255.), 2)\n",
        "    writer.append_data(cv2.cvtColor(frame,cv2.COLOR_RGB2BGR))\n",
        "vc.release()\n",
        "writer.close()"
      ],
      "execution_count": 27,
      "outputs": [
        {
          "output_type": "stream",
          "text": [
            "WARNING:root:IMAGEIO FFMPEG_WRITER WARNING: input image is not divisible by macro_block_size=16, resizing from (400, 600) to (400, 608) to ensure video compatibility with most codecs and players. To prevent resizing, make your input image divisible by the macro_block_size or set the macro_block_size to None (risking incompatibility). You may also see a FFMPEG warning concerning speedloss due to data not being aligned.\n"
          ],
          "name": "stderr"
        }
      ]
    }
  ]
}